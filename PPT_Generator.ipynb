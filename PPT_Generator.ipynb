{
  "nbformat": 4,
  "nbformat_minor": 0,
  "metadata": {
    "colab": {
      "provenance": [],
      "authorship_tag": "ABX9TyMyztZKuzXa+Eb28XuSfsXK",
      "include_colab_link": true
    },
    "kernelspec": {
      "name": "python3",
      "display_name": "Python 3"
    },
    "language_info": {
      "name": "python"
    }
  },
  "cells": [
    {
      "cell_type": "markdown",
      "metadata": {
        "id": "view-in-github",
        "colab_type": "text"
      },
      "source": [
        "<a href=\"https://colab.research.google.com/github/JeswinJestin/GenAI_PPT_Generator/blob/main/PPT_Generator.ipynb\" target=\"_parent\"><img src=\"https://colab.research.google.com/assets/colab-badge.svg\" alt=\"Open In Colab\"/></a>"
      ]
    },
    {
      "cell_type": "code",
      "execution_count": 39,
      "metadata": {
        "colab": {
          "base_uri": "https://localhost:8080/"
        },
        "id": "3P4MeH_64tcD",
        "outputId": "a522400b-3487-45e6-9dae-690dd9e67ec1"
      },
      "outputs": [
        {
          "output_type": "stream",
          "name": "stdout",
          "text": [
            "Requirement already satisfied: google-generativeai in /usr/local/lib/python3.12/dist-packages (0.8.5)\n",
            "Requirement already satisfied: python-pptx in /usr/local/lib/python3.12/dist-packages (1.0.2)\n",
            "Requirement already satisfied: Pillow in /usr/local/lib/python3.12/dist-packages (11.3.0)\n",
            "Requirement already satisfied: requests in /usr/local/lib/python3.12/dist-packages (2.32.4)\n",
            "Requirement already satisfied: python-dotenv in /usr/local/lib/python3.12/dist-packages (1.1.1)\n",
            "Requirement already satisfied: google-ai-generativelanguage==0.6.15 in /usr/local/lib/python3.12/dist-packages (from google-generativeai) (0.6.15)\n",
            "Requirement already satisfied: google-api-core in /usr/local/lib/python3.12/dist-packages (from google-generativeai) (2.25.1)\n",
            "Requirement already satisfied: google-api-python-client in /usr/local/lib/python3.12/dist-packages (from google-generativeai) (2.182.0)\n",
            "Requirement already satisfied: google-auth>=2.15.0 in /usr/local/lib/python3.12/dist-packages (from google-generativeai) (2.38.0)\n",
            "Requirement already satisfied: protobuf in /usr/local/lib/python3.12/dist-packages (from google-generativeai) (5.29.5)\n",
            "Requirement already satisfied: pydantic in /usr/local/lib/python3.12/dist-packages (from google-generativeai) (2.11.9)\n",
            "Requirement already satisfied: tqdm in /usr/local/lib/python3.12/dist-packages (from google-generativeai) (4.67.1)\n",
            "Requirement already satisfied: typing-extensions in /usr/local/lib/python3.12/dist-packages (from google-generativeai) (4.15.0)\n",
            "Requirement already satisfied: proto-plus<2.0.0dev,>=1.22.3 in /usr/local/lib/python3.12/dist-packages (from google-ai-generativelanguage==0.6.15->google-generativeai) (1.26.1)\n",
            "Requirement already satisfied: XlsxWriter>=0.5.7 in /usr/local/lib/python3.12/dist-packages (from python-pptx) (3.2.9)\n",
            "Requirement already satisfied: lxml>=3.1.0 in /usr/local/lib/python3.12/dist-packages (from python-pptx) (5.4.0)\n",
            "Requirement already satisfied: charset_normalizer<4,>=2 in /usr/local/lib/python3.12/dist-packages (from requests) (3.4.3)\n",
            "Requirement already satisfied: idna<4,>=2.5 in /usr/local/lib/python3.12/dist-packages (from requests) (3.10)\n",
            "Requirement already satisfied: urllib3<3,>=1.21.1 in /usr/local/lib/python3.12/dist-packages (from requests) (2.5.0)\n",
            "Requirement already satisfied: certifi>=2017.4.17 in /usr/local/lib/python3.12/dist-packages (from requests) (2025.8.3)\n",
            "Requirement already satisfied: googleapis-common-protos<2.0.0,>=1.56.2 in /usr/local/lib/python3.12/dist-packages (from google-api-core->google-generativeai) (1.70.0)\n",
            "Requirement already satisfied: cachetools<6.0,>=2.0.0 in /usr/local/lib/python3.12/dist-packages (from google-auth>=2.15.0->google-generativeai) (5.5.2)\n",
            "Requirement already satisfied: pyasn1-modules>=0.2.1 in /usr/local/lib/python3.12/dist-packages (from google-auth>=2.15.0->google-generativeai) (0.4.2)\n",
            "Requirement already satisfied: rsa<5,>=3.1.4 in /usr/local/lib/python3.12/dist-packages (from google-auth>=2.15.0->google-generativeai) (4.9.1)\n",
            "Requirement already satisfied: httplib2<1.0.0,>=0.19.0 in /usr/local/lib/python3.12/dist-packages (from google-api-python-client->google-generativeai) (0.31.0)\n",
            "Requirement already satisfied: google-auth-httplib2<1.0.0,>=0.2.0 in /usr/local/lib/python3.12/dist-packages (from google-api-python-client->google-generativeai) (0.2.0)\n",
            "Requirement already satisfied: uritemplate<5,>=3.0.1 in /usr/local/lib/python3.12/dist-packages (from google-api-python-client->google-generativeai) (4.2.0)\n",
            "Requirement already satisfied: annotated-types>=0.6.0 in /usr/local/lib/python3.12/dist-packages (from pydantic->google-generativeai) (0.7.0)\n",
            "Requirement already satisfied: pydantic-core==2.33.2 in /usr/local/lib/python3.12/dist-packages (from pydantic->google-generativeai) (2.33.2)\n",
            "Requirement already satisfied: typing-inspection>=0.4.0 in /usr/local/lib/python3.12/dist-packages (from pydantic->google-generativeai) (0.4.1)\n",
            "Requirement already satisfied: grpcio<2.0.0,>=1.33.2 in /usr/local/lib/python3.12/dist-packages (from google-api-core[grpc]!=2.0.*,!=2.1.*,!=2.10.*,!=2.2.*,!=2.3.*,!=2.4.*,!=2.5.*,!=2.6.*,!=2.7.*,!=2.8.*,!=2.9.*,<3.0.0dev,>=1.34.1->google-ai-generativelanguage==0.6.15->google-generativeai) (1.75.0)\n",
            "Requirement already satisfied: grpcio-status<2.0.0,>=1.33.2 in /usr/local/lib/python3.12/dist-packages (from google-api-core[grpc]!=2.0.*,!=2.1.*,!=2.10.*,!=2.2.*,!=2.3.*,!=2.4.*,!=2.5.*,!=2.6.*,!=2.7.*,!=2.8.*,!=2.9.*,<3.0.0dev,>=1.34.1->google-ai-generativelanguage==0.6.15->google-generativeai) (1.71.2)\n",
            "Requirement already satisfied: pyparsing<4,>=3.0.4 in /usr/local/lib/python3.12/dist-packages (from httplib2<1.0.0,>=0.19.0->google-api-python-client->google-generativeai) (3.2.4)\n",
            "Requirement already satisfied: pyasn1<0.7.0,>=0.6.1 in /usr/local/lib/python3.12/dist-packages (from pyasn1-modules>=0.2.1->google-auth>=2.15.0->google-generativeai) (0.6.1)\n"
          ]
        }
      ],
      "source": [
        "!pip install google-generativeai python-pptx Pillow requests python-dotenv"
      ]
    },
    {
      "cell_type": "code",
      "source": [
        "import os\n",
        "import google.generativeai as genai\n",
        "from dotenv import load_dotenv\n",
        "from pptx import Presentation\n",
        "from pptx.util import Inches, Pt\n",
        "from pptx.enum.text import PP_ALIGN\n",
        "from pptx.dml.color import RGBColor\n",
        "import io\n",
        "import json\n",
        "from PIL import Image\n",
        "import requests\n",
        "\n",
        "# Load environment variables from a .env file if it exists\n",
        "load_dotenv()"
      ],
      "metadata": {
        "colab": {
          "base_uri": "https://localhost:8080/"
        },
        "id": "U0EeRRcsdyJf",
        "outputId": "2e541aab-c8e4-44fd-8385-2485158fe258"
      },
      "execution_count": 40,
      "outputs": [
        {
          "output_type": "execute_result",
          "data": {
            "text/plain": [
              "False"
            ]
          },
          "metadata": {},
          "execution_count": 40
        }
      ]
    },
    {
      "cell_type": "code",
      "source": [
        "import os\n",
        "import json\n",
        "import requests\n",
        "from pptx import Presentation\n",
        "from pptx.util import Pt, Inches\n",
        "from pptx.dml.color import RGBColor\n",
        "from pptx.enum.text import PP_ALIGN\n",
        "from PIL import Image, ImageDraw\n",
        "import google.generativeai as genai\n",
        "from dotenv import load_dotenv # Ensure dotenv is imported here too\n",
        "\n",
        "# Load environment variables if not already loaded\n",
        "load_dotenv()\n",
        "\n",
        "\n",
        "class PPTGenerator:\n",
        "    def __init__(self, api_key=None):\n",
        "        # Prioritize explicitly passed API key, then environment variable\n",
        "        self.api_key = api_key if api_key else os.getenv(\"GEMINI_API_KEY\")\n",
        "        if not self.api_key:\n",
        "            raise ValueError(\"Gemini API Key not provided. Please set GEMINI_API_KEY in your environment or pass it to the constructor.\")\n",
        "\n",
        "        genai.configure(api_key=self.api_key)\n",
        "        # Consider adding a check here to see if the API key is valid\n",
        "        # by making a small test call.\n",
        "\n",
        "        self.model = genai.GenerativeModel('gemini-2.5-pro')\n",
        "\n",
        "        self.presentation = Presentation()\n",
        "        # Load Pexels API key from environment variables\n",
        "        self.pexels_api_key = os.getenv(\"PEXELS_API_KEY\")\n",
        "        if not self.pexels_api_key:\n",
        "             print(\"⚠️ Pexels API Key not found in environment variables. Image downloads may fail.\")\n",
        "\n",
        "\n",
        "    def generate_content_outline(self, topic, num_slides=5):\n",
        "        \"\"\"Generate advanced content outline for a PowerPoint presentation using Gemini\"\"\"\n",
        "        prompt = f\"\"\"\n",
        "        You are an expert content creator and instructional designer.\n",
        "        Create a comprehensive and engaging outline for a PowerPoint presentation on \"{topic}\" with {num_slides} slides.\n",
        "\n",
        "        Guidelines:\n",
        "        1. Ensure each slide has a clear purpose and logical flow from introduction to conclusion.\n",
        "        2. Include slide types as: \"title\", \"content\", \"image\", or \"conclusion\".\n",
        "        3. For content slides, provide 3-5 bullet points that are concise, actionable, and easy to understand.\n",
        "        4. Suggest a relevant image idea for image slides.\n",
        "        5. Provide short speaker notes for each slide (1-2 sentences).\n",
        "        6. Suggest a simple design hint (color theme, layout style, or font tone).\n",
        "        7. Return the response strictly as a valid JSON array with this structure:\n",
        "           [\n",
        "               {{\n",
        "                   \"title\": \"Slide Title\",\n",
        "                   \"content\": \"Main content points as bullet points or description for image slide\",\n",
        "                   \"slide_type\": \"title|content|image|conclusion\",\n",
        "                   \"notes\": \"Speaker notes\",\n",
        "                   \"design_hint\": \"Design suggestion\"\n",
        "               }}\n",
        "           ]\n",
        "        \"\"\"\n",
        "\n",
        "        try:\n",
        "            response = self.model.generate_content(prompt)\n",
        "            content = response.text.strip()\n",
        "\n",
        "            # Handle markdown wrapping and direct list output\n",
        "            if isinstance(response.candidates[0].content.parts[0].text, str):\n",
        "                content = response.text.strip()\n",
        "                if \"```json\" in content:\n",
        "                    content = content.split(\"```json\")[1].split(\"```\")[0].strip()\n",
        "                elif \"```\" in content:\n",
        "                    # Assuming the raw JSON is sometimes returned without the json identifier\n",
        "                    content = content.split(\"```\")[1].strip()\n",
        "                # Attempt to parse the JSON string\n",
        "                return json.loads(content)\n",
        "            elif isinstance(response.candidates[0].content.parts[0].text, list):\n",
        "                # If the API returns a list directly, return it\n",
        "                return response.candidates[0].content.parts[0].text\n",
        "            else:\n",
        "                # Handle unexpected response types\n",
        "                print(f\"⚠️ Unexpected API response format: {type(response.candidates[0].content.parts[0].text)}\")\n",
        "                return self._get_fallback_outline(topic, num_slides)\n",
        "\n",
        "\n",
        "        except json.JSONDecodeError:\n",
        "            print(f\"⚠️ JSON Decode Error: Could not parse content as JSON. Content: {content[:500]}...\") # Print a snippet of content\n",
        "            return self._get_fallback_outline(topic, num_slides)\n",
        "        except Exception as e:\n",
        "            print(f\"⚠️ Error generating content outline: {e}\")\n",
        "            return self._get_fallback_outline(topic, num_slides)\n",
        "\n",
        "\n",
        "    def _get_fallback_outline(self, topic, num_slides):\n",
        "        \"\"\"Fallback outline if Gemini fails\"\"\"\n",
        "        print(\"Using fallback outline.\")\n",
        "        # Generate a simple fallback outline based on the requested number of slides\n",
        "        fallback = []\n",
        "        if num_slides > 0:\n",
        "            fallback.append({\n",
        "                \"title\": f\"Introduction to {topic}\",\n",
        "                \"content\": \"• Overview of the topic\\n• Key objectives\\n• What to expect\",\n",
        "                \"slide_type\": \"title\",\n",
        "                \"notes\": \"Introduce the topic and set expectations.\",\n",
        "                \"design_hint\": \"Clean white background with bold blue title\"\n",
        "            })\n",
        "        for i in range(1, num_slides - 1):\n",
        "             fallback.append({\n",
        "                \"title\": f\"{topic} - Key Point {i}\",\n",
        "                \"content\": f\"• Detail 1 for key point {i}\\n• Detail 2 for key point {i}\",\n",
        "                \"slide_type\": \"content\",\n",
        "                \"notes\": f\"Discuss key point {i}.\",\n",
        "                \"design_hint\": f\"Layout variation {i % 2 + 1}\"\n",
        "            })\n",
        "        if num_slides > 1:\n",
        "             fallback.append({\n",
        "                \"title\": \"Conclusion\",\n",
        "                \"content\": \"• Summary of key points\\n• Final thoughts\\n• Next steps\",\n",
        "                \"slide_type\": \"conclusion\",\n",
        "                \"notes\": \"Wrap up and leave audience with takeaways.\",\n",
        "                \"design_hint\": \"Bold ending slide with contrasting colors\"\n",
        "            })\n",
        "        # Ensure the fallback outline has the correct number of slides\n",
        "        while len(fallback) < num_slides:\n",
        "             fallback.append({\n",
        "                \"title\": f\"{topic} - Additional Point {len(fallback)}\",\n",
        "                \"content\": f\"• Additional detail for point {len(fallback)}\",\n",
        "                \"slide_type\": \"content\",\n",
        "                \"notes\": f\"Additional point {len(fallback)}.\",\n",
        "                \"design_hint\": \"Simple layout\"\n",
        "            })\n",
        "        return fallback[:num_slides] # Return exactly the requested number of slides\n",
        "\n",
        "\n",
        "    def generate_image_description(self, slide_content):\n",
        "        \"\"\"Generate image description for slides using Gemini\"\"\"\n",
        "        prompt = f\"\"\"\n",
        "        Based on this slide content, suggest a relevant image description that would enhance the presentation:\n",
        "\n",
        "        {slide_content}\n",
        "\n",
        "        Return only a brief, descriptive phrase suitable for image search (max 10 words).\n",
        "        \"\"\"\n",
        "\n",
        "        try:\n",
        "            response = self.model.generate_content(prompt)\n",
        "            return response.text.strip()\n",
        "        except Exception as e:\n",
        "            print(f\"⚠️ Error generating image description: {e}\")\n",
        "            return \"professional presentation\"\n",
        "\n",
        "    def download_image(self, query, save_path=\"temp_image.jpg\"):\n",
        "        \"\"\"Download a relevant image from Pexels based on the query\"\"\"\n",
        "        if not self.pexels_api_key:\n",
        "            print(\"⚠️ Pexels API key is not set. Skipping image download.\")\n",
        "            return self._create_fallback_image(save_path, \"Pexels API Key Missing\")\n",
        "\n",
        "        try:\n",
        "            url = \"https://api.pexels.com/v1/search\"\n",
        "            headers = {\"Authorization\": self.pexels_api_key}\n",
        "            params = {\"query\": query, \"per_page\": 1, \"orientation\": \"landscape\"}\n",
        "\n",
        "            response = requests.get(url, headers=headers, params=params)\n",
        "            response.raise_for_status()\n",
        "\n",
        "            data = response.json()\n",
        "            if not data.get(\"photos\"):\n",
        "                raise ValueError(f\"No images found for query: '{query}'.\")\n",
        "\n",
        "            image_url = data[\"photos\"][0][\"src\"][\"original\"]\n",
        "\n",
        "            img_response = requests.get(image_url)\n",
        "            img_response.raise_for_status()\n",
        "\n",
        "            with open(save_path, \"wb\") as f:\n",
        "                f.write(img_response.content)\n",
        "\n",
        "            return save_path\n",
        "\n",
        "        except requests.exceptions.RequestException as e:\n",
        "            print(f\"⚠️ Error downloading image from Pexels: {e}\")\n",
        "            return self._create_fallback_image(save_path, f\"Image Download Failed: {e}\")\n",
        "        except ValueError as e:\n",
        "             print(f\"⚠️ Error in Pexels API response: {e}\")\n",
        "             return self._create_fallback_image(save_path, f\"No Image Found: {e}\")\n",
        "        except Exception as e:\n",
        "            print(f\"⚠️ An unexpected error occurred during image download: {e}\")\n",
        "            return self._create_fallback_image(save_path, f\"Image Error: {e}\")\n",
        "\n",
        "    def _create_fallback_image(self, save_path, text=\"No Image Available\"):\n",
        "        \"\"\"Creates a simple fallback image with text.\"\"\"\n",
        "        try:\n",
        "            img = Image.new(\"RGB\", (800, 600), color=\"#DDDDDD\") # Use a neutral color\n",
        "            draw = ImageDraw.Draw(img)\n",
        "            # Consider using a better font and centering the text\n",
        "            # Simple text wrapping might be needed for long messages\n",
        "            draw.text((200, 280), text, fill=\"#333333\")\n",
        "            img.save(save_path)\n",
        "            return save_path\n",
        "        except Exception as e:\n",
        "            print(f\"⚠️ Error creating fallback image: {e}\")\n",
        "            return None\n",
        "\n",
        "\n",
        "    def create_title_slide(self, title, subtitle=\"\"):\n",
        "        slide_layout = self.presentation.slide_layouts[0]\n",
        "        slide = self.presentation.slides.add_slide(slide_layout)\n",
        "\n",
        "        title_shape = slide.shapes.title\n",
        "        title_shape.text = title\n",
        "        # Improve font handling and styling based on design hints later\n",
        "        title_shape.text_frame.paragraphs[0].font.size = Pt(44)\n",
        "        title_shape.text_frame.paragraphs[0].font.bold = True\n",
        "        title_shape.text_frame.paragraphs[0].alignment = PP_ALIGN.CENTER\n",
        "\n",
        "        if subtitle:\n",
        "            subtitle_shape = slide.placeholders[1]\n",
        "            subtitle_shape.text = subtitle\n",
        "            subtitle_shape.text_frame.paragraphs[0].font.size = Pt(24)\n",
        "            subtitle_shape.text_frame.paragraphs[0].alignment = PP_ALIGN.CENTER\n",
        "\n",
        "        return slide\n",
        "\n",
        "    def create_content_slide(self, title, content, notes=\"\", include_image=False):\n",
        "        slide_layout = self.presentation.slide_layouts[1]\n",
        "        slide = self.presentation.slides.add_slide(slide_layout)\n",
        "\n",
        "        title_shape = slide.shapes.title\n",
        "        title_shape.text = title\n",
        "        title_shape.text_frame.paragraphs[0].font.size = Pt(36)\n",
        "        title_shape.text_frame.paragraphs[0].font.bold = True\n",
        "\n",
        "        content_shape = slide.placeholders[1]\n",
        "        # Handle potential non-string content if API output format changes unexpectedly\n",
        "        content_shape.text = str(content) if content is not None else \"\"\n",
        "        text_frame = content_shape.text_frame\n",
        "        for paragraph in text_frame.paragraphs:\n",
        "            paragraph.font.size = Pt(18)\n",
        "            paragraph.font.color.rgb = RGBColor(51, 51, 51)\n",
        "\n",
        "        # Add speaker notes\n",
        "        if notes:\n",
        "            notes_slide = slide.notes_slide\n",
        "            notes_slide.notes_text_frame.text = notes\n",
        "\n",
        "        if include_image:\n",
        "            try:\n",
        "                image_desc = self.generate_image_description(content)\n",
        "                if image_desc: # Only attempt download if description is generated\n",
        "                    image_path = self.download_image(image_desc)\n",
        "                    if image_path and os.path.exists(image_path):\n",
        "                        # Consider better image placement and sizing logic\n",
        "                        slide.shapes.add_picture(image_path, Inches(6), Inches(2), height=Inches(4))\n",
        "                        os.remove(image_path)\n",
        "            except Exception as e:\n",
        "                print(f\"⚠️ Error adding image to content slide: {e}\")\n",
        "\n",
        "\n",
        "        return slide\n",
        "\n",
        "    def create_image_slide(self, title, content, image_query, notes=\"\"):\n",
        "        slide_layout = self.presentation.slide_layouts[8]\n",
        "        slide = self.presentation.slides.add_slide(slide_layout)\n",
        "\n",
        "        # Using text boxes for more flexible positioning\n",
        "        title_box = slide.shapes.add_textbox(Inches(0.5), Inches(0.5), Inches(9), Inches(1))\n",
        "        title_frame = title_box.text_frame\n",
        "        title_frame.text = title\n",
        "        title_frame.paragraphs[0].font.size = Pt(36)\n",
        "        title_frame.paragraphs[0].font.bold = True\n",
        "        title_frame.paragraphs[0].alignment = PP_ALIGN.CENTER\n",
        "\n",
        "        content_box = slide.shapes.add_textbox(Inches(0.5), Inches(2), Inches(4), Inches(5))\n",
        "        content_frame = content_box.text_frame\n",
        "        # Handle potential non-string content\n",
        "        content_frame.text = str(content) if content is not None else \"\"\n",
        "        for paragraph in content_frame.paragraphs:\n",
        "            paragraph.font.size = Pt(18)\n",
        "            paragraph.font.color.rgb = RGBColor(51, 51, 51)\n",
        "\n",
        "        if notes:\n",
        "            notes_slide = slide.notes_slide\n",
        "            notes_slide.notes_text_frame.text = notes\n",
        "\n",
        "        try:\n",
        "            if image_query: # Only attempt download if query is provided\n",
        "                image_path = self.download_image(image_query)\n",
        "                if image_path and os.path.exists(image_path):\n",
        "                    # Consider better image placement and sizing for image slides\n",
        "                    slide.shapes.add_picture(image_path, Inches(5), Inches(2), height=Inches(5))\n",
        "                    os.remove(image_path)\n",
        "        except Exception as e:\n",
        "            print(f\"⚠️ Error adding image to image slide: {e}\")\n",
        "\n",
        "        return slide\n",
        "\n",
        "    def generate_presentation(self, topic, num_slides=5, output_path=\"generated_presentation.pptx\"):\n",
        "        print(f\"🚀 Generating presentation on: {topic}\")\n",
        "\n",
        "        outline = self.generate_content_outline(topic, num_slides)\n",
        "\n",
        "        if not outline:\n",
        "            print(\"⚠️ Could not generate presentation outline. Aborting.\")\n",
        "            return None\n",
        "\n",
        "        for i, slide_data in enumerate(outline):\n",
        "            # Ensure slide_data is a dictionary and has necessary keys\n",
        "            if not isinstance(slide_data, dict):\n",
        "                 print(f\"⚠️ Skipping invalid slide data at index {i}: {slide_data}\")\n",
        "                 continue\n",
        "\n",
        "            title = slide_data.get(\"title\", f\"Slide {i+1}\") # Provide a default title\n",
        "            content = slide_data.get(\"content\", \"\")\n",
        "            slide_type = slide_data.get(\"slide_type\", \"content\").lower() # Default to content, handle case\n",
        "            notes = slide_data.get(\"notes\", \"\")\n",
        "            design_hint = slide_data.get(\"design_hint\", \"\")\n",
        "\n",
        "            print(f\"📝 Creating slide {i+1}: {title} | Type: {slide_type} | Design: {design_hint}\")\n",
        "\n",
        "            try:\n",
        "                if i == 0 or slide_type == \"title\":\n",
        "                    self.create_title_slide(title, \"Generated by Gemini AI\")\n",
        "                elif slide_type == \"image\":\n",
        "                    # Use the content as a basis for image query if not explicitly provided in outline (though prompt asks for it)\n",
        "                    image_query = slide_data.get(\"image_query\", self.generate_image_description(content))\n",
        "                    self.create_image_slide(title, content, image_query, notes)\n",
        "                elif slide_type == \"conclusion\":\n",
        "                     # Could create a specific conclusion slide layout\n",
        "                     self.create_content_slide(title, content, notes, include_image=False) # Conclusion usually doesn't need image\n",
        "                elif slide_type == \"content\":\n",
        "                    # Decide whether to include an image based on index or other criteria\n",
        "                    include_image = (i % 2 == 1) # Example: include image on every other content slide\n",
        "                    self.create_content_slide(title, content, notes, include_image)\n",
        "                else:\n",
        "                    print(f\"⚠️ Unknown slide type '{slide_type}' for slide {i+1}. Creating as content slide.\")\n",
        "                    self.create_content_slide(title, content, notes, include_image=False) # Fallback for unknown types\n",
        "            except Exception as e:\n",
        "                 print(f\"❌ Error creating slide {i+1} ('{title}'): {e}\")\n",
        "                 # Optionally, add a placeholder slide to indicate an error occurred\n",
        "                 try:\n",
        "                     slide_layout = self.presentation.slide_layouts[5] # Blank slide layout\n",
        "                     slide = self.presentation.slides.add_slide(slide_layout)\n",
        "                     title_box = slide.shapes.add_textbox(Inches(0.5), Inches(0.5), Inches(9), Inches(1))\n",
        "                     title_frame = title_box.text_frame\n",
        "                     title_frame.text = f\"Error creating slide {i+1}\"\n",
        "                     title_frame.paragraphs[0].font.size = Pt(36)\n",
        "                     content_box = slide.shapes.add_textbox(Inches(0.5), Inches(2), Inches(9), Inches(5))\n",
        "                     content_frame = content_box.text_frame\n",
        "                     content_frame.text = f\"An error occurred while generating this slide: {e}\"\n",
        "                 except Exception as slide_error:\n",
        "                      print(f\"❌ Failed to add error placeholder slide: {slide_error}\")\n",
        "\n",
        "\n",
        "        try:\n",
        "            self.presentation.save(output_path)\n",
        "            print(f\"✅ Presentation saved as: {output_path}\")\n",
        "            return output_path\n",
        "        except Exception as e:\n",
        "            print(f\"❌ Error saving presentation: {e}\")\n",
        "            return None\n",
        "\n",
        "\n",
        "print(\"✅ PPTGenerator class defined successfully with enhanced error handling and structure!\")"
      ],
      "metadata": {
        "colab": {
          "base_uri": "https://localhost:8080/"
        },
        "id": "CnkksLhrfQoB",
        "outputId": "fc17bf0a-9430-4ebc-aaa1-0542611218ba"
      },
      "execution_count": 41,
      "outputs": [
        {
          "output_type": "stream",
          "name": "stdout",
          "text": [
            "✅ PPTGenerator class defined successfully with enhanced error handling and structure!\n"
          ]
        }
      ]
    },
    {
      "cell_type": "markdown",
      "source": [
        "## Setup Gemini API Key\n",
        "#### You need to set up your Gemini API key. You can either:\n",
        "\n",
        "1. Create a .env file with GEMINI_API_KEY=your_api_key_here\n",
        "2. Set it directly in the code below"
      ],
      "metadata": {
        "id": "2kSvmxU2oSGB"
      }
    },
    {
      "cell_type": "code",
      "source": [
        "# Check if API key is loaded from environment or set\n",
        "api_key = os.getenv(\"GEMINI_API_KEY\") # Try to get from environment first\n",
        "if api_key:\n",
        "    print(\"✅ Gemini API key is configured (loaded from environment)\")\n",
        "else:\n",
        "    # Fallback to hardcoded key ONLY for demonstration if environment variable is not set\n",
        "    # In a real application, you would NOT hardcode keys like this.\n",
        "    # api_key = \"YOUR_HARDCODED_API_KEY_HERE\" # Uncomment and replace ONLY for testing without .env\n",
        "    if api_key: # Check again if hardcoded key was set\n",
        "         print(\"⚠️ Using hardcoded Gemini API key. Consider using a .env file for security.\")\n",
        "    else:\n",
        "         print(\"❌ Gemini API key is not configured. Please set GEMINI_API_KEY in your .env file or environment variables.\")\n",
        "\n",
        "# Check for Pexels API key as well\n",
        "pexels_api_key = os.getenv(\"PEXELS_API_KEY\")\n",
        "if pexels_api_key:\n",
        "    print(\"✅ Pexels API key is configured (loaded from environment)\")\n",
        "else:\n",
        "    print(\"⚠️ Pexels API key is not configured. Image downloads may fail. Set PEXELS_API_KEY in your .env file or environment variables.\")"
      ],
      "metadata": {
        "colab": {
          "base_uri": "https://localhost:8080/"
        },
        "id": "WUlD_MLtnaMr",
        "outputId": "bbd682d8-c8eb-420f-c312-e9e82913cc70"
      },
      "execution_count": 42,
      "outputs": [
        {
          "output_type": "stream",
          "name": "stdout",
          "text": [
            "❌ Gemini API key is not configured. Please set GEMINI_API_KEY in your .env file or environment variables.\n",
            "⚠️ Pexels API key is not configured. Image downloads may fail. Set PEXELS_API_KEY in your .env file or environment variables.\n"
          ]
        }
      ]
    },
    {
      "cell_type": "code",
      "metadata": {
        "colab": {
          "base_uri": "https://localhost:8080/"
        },
        "id": "680474bb",
        "outputId": "e82a6fd8-00c9-4c12-f960-7e8fccff481c"
      },
      "source": [
        "# Initialize the generator\n",
        "# Pass the loaded api_key (which could be None if not found)\n",
        "try:\n",
        "    generator = PPTGenerator(api_key=api_key)\n",
        "    print(\"✅ PPT Generator initialized successfully!\")\n",
        "except ValueError as e:\n",
        "    print(f\"❌ Error initializing PPTGenerator: {e}\")\n",
        "    print(\"Please set your GEMINI_API_KEY first.\")"
      ],
      "execution_count": 43,
      "outputs": [
        {
          "output_type": "stream",
          "name": "stdout",
          "text": [
            "❌ Error initializing PPTGenerator: Gemini API Key not provided. Please set GEMINI_API_KEY in your environment or pass it to the constructor.\n",
            "Please set your GEMINI_API_KEY first.\n"
          ]
        }
      ]
    },
    {
      "cell_type": "markdown",
      "source": [
        "# **Generate a Presentation**\n",
        "Now let's create a presentation! You can change the topic and number of slides as needed."
      ],
      "metadata": {
        "id": "TX_AZo4YoObB"
      }
    },
    {
      "cell_type": "code",
      "source": [
        "# Initialize the generator\n",
        "# Pass the loaded api_key (which could be None if not found)\n",
        "try:\n",
        "    generator = PPTGenerator(api_key=api_key)\n",
        "    print(\"✅ PPT Generator initialized successfully!\")\n",
        "except ValueError as e:\n",
        "    print(f\"❌ Error initializing PPTGenerator: {e}\")\n",
        "    print(\"Please set your GEMINI_API_KEY first.\")"
      ],
      "metadata": {
        "colab": {
          "base_uri": "https://localhost:8080/"
        },
        "id": "-oP99W6IoJSw",
        "outputId": "d1fde006-3376-4ee1-a985-4ff100748914"
      },
      "execution_count": 44,
      "outputs": [
        {
          "output_type": "stream",
          "name": "stdout",
          "text": [
            "❌ Error initializing PPTGenerator: Gemini API Key not provided. Please set GEMINI_API_KEY in your environment or pass it to the constructor.\n",
            "Please set your GEMINI_API_KEY first.\n"
          ]
        }
      ]
    },
    {
      "cell_type": "markdown",
      "metadata": {
        "id": "5faddff9"
      },
      "source": [
        "## Using Colab Secrets Manager for API Keys\n",
        "\n",
        "Instead of storing API keys directly in `.env` files or code, the most secure way in Colab is to use the built-in Secrets Manager.\n",
        "\n",
        "1.  Click the \"🔑\" icon in the left sidebar.\n",
        "2.  Click \"Add new secret\".\n",
        "3.  Set the **Name** to `GOOGLE_API_KEY`.\n",
        "4.  Paste your API key into the **Value** field.\n",
        "5.  Click \"Save secret\".\n",
        "6.  Ensure the secret is enabled for this notebook.\n",
        "\n",
        "Then, you can access the key in your code:"
      ]
    },
    {
      "cell_type": "code",
      "metadata": {
        "colab": {
          "base_uri": "https://localhost:8080/"
        },
        "id": "e655e58e",
        "outputId": "9b9f724e-11d8-4dc1-effd-fd2518a9f8bb"
      },
      "source": [
        "from google.colab import userdata\n",
        "import os\n",
        "\n",
        "# Get the API key from Colab Secrets\n",
        "# Note: The name here is 'GOOGLE_API_KEY' as recommended by Colab documentation\n",
        "api_key = userdata.get('GOOGLE_API_KEY')\n",
        "\n",
        "# You might also want to get your Pexels API key if you have one\n",
        "# pexels_api_key = userdata.get('PEXELS_API_KEY')\n",
        "\n",
        "if api_key:\n",
        "    print(\"✅ Gemini API key loaded from Colab Secrets.\")\n",
        "    # Now you can initialize your PPTGenerator with this key\n",
        "    # try:\n",
        "    #     generator = PPTGenerator(api_key=api_key)\n",
        "    #     print(\"✅ PPT Generator initialized successfully!\")\n",
        "    # except ValueError as e:\n",
        "    #     print(f\"❌ Error initializing PPTGenerator: {e}\")\n",
        "    #     print(\"Please ensure your API key is correct.\")\n",
        "else:\n",
        "    print(\"❌ GOOGLE_API_KEY not found in Colab Secrets. Please add it using the 🔑 icon.\")\n",
        "\n",
        "# If you are still using dotenv for other variables, keep this line\n",
        "# load_dotenv() # Assuming load_dotenv is imported earlier"
      ],
      "execution_count": 45,
      "outputs": [
        {
          "output_type": "stream",
          "name": "stdout",
          "text": [
            "✅ Gemini API key loaded from Colab Secrets.\n"
          ]
        }
      ]
    },
    {
      "cell_type": "code",
      "source": [
        "# Generate a presentation\n",
        "topic = \"Artificial Intelligence in Healthcare\"  # Change this to your desired topic\n",
        "num_slides = 6  # Change this to your desired number of slides\n",
        "\n",
        "try:\n",
        "    output_file = generator.generate_presentation(topic, num_slides, \"ai_healthcare_presentation.pptx\")\n",
        "except Exception as e:\n",
        "    print(e)"
      ],
      "metadata": {
        "colab": {
          "base_uri": "https://localhost:8080/",
          "height": 384
        },
        "id": "6t7ERQb3o7NH",
        "outputId": "b616c443-48cd-43e4-b5b0-c29bd85a9d9e"
      },
      "execution_count": 46,
      "outputs": [
        {
          "output_type": "stream",
          "name": "stdout",
          "text": [
            "🚀 Generating presentation on: Artificial Intelligence in Healthcare\n"
          ]
        },
        {
          "output_type": "stream",
          "name": "stderr",
          "text": [
            "ERROR:tornado.access:503 POST /v1beta/models/gemini-2.5-pro:generateContent?%24alt=json%3Benum-encoding%3Dint (127.0.0.1) 1421.45ms\n",
            "ERROR:tornado.access:503 POST /v1beta/models/gemini-2.5-pro:generateContent?%24alt=json%3Benum-encoding%3Dint (127.0.0.1) 647.19ms\n",
            "ERROR:tornado.access:503 POST /v1beta/models/gemini-2.5-pro:generateContent?%24alt=json%3Benum-encoding%3Dint (127.0.0.1) 857.89ms\n",
            "WARNING:tornado.access:429 POST /v1beta/models/gemini-2.5-pro:generateContent?%24alt=json%3Benum-encoding%3Dint (127.0.0.1) 494.65ms\n"
          ]
        },
        {
          "output_type": "stream",
          "name": "stdout",
          "text": [
            "⚠️ Error generating content outline: 429 POST https://generativelanguage.googleapis.com/v1beta/models/gemini-2.5-pro:generateContent?%24alt=json%3Benum-encoding%3Dint: You exceeded your current quota, please check your plan and billing details. For more information on this error, head to: https://ai.google.dev/gemini-api/docs/rate-limits.\n",
            "* Quota exceeded for metric: generativelanguage.googleapis.com/generate_content_free_tier_requests, limit: 2\n",
            "Please retry in 50.074196362s.\n",
            "Using fallback outline.\n",
            "📝 Creating slide 1: Introduction to Artificial Intelligence in Healthcare | Type: title | Design: Clean white background with bold blue title\n",
            "📝 Creating slide 2: Artificial Intelligence in Healthcare - Key Point 1 | Type: content | Design: Layout variation 2\n"
          ]
        },
        {
          "output_type": "stream",
          "name": "stderr",
          "text": [
            "WARNING:tornado.access:429 POST /v1beta/models/gemini-2.5-pro:generateContent?%24alt=json%3Benum-encoding%3Dint (127.0.0.1) 577.03ms\n"
          ]
        },
        {
          "output_type": "stream",
          "name": "stdout",
          "text": [
            "⚠️ Error generating image description: 429 POST https://generativelanguage.googleapis.com/v1beta/models/gemini-2.5-pro:generateContent?%24alt=json%3Benum-encoding%3Dint: You exceeded your current quota, please check your plan and billing details. For more information on this error, head to: https://ai.google.dev/gemini-api/docs/rate-limits.\n",
            "* Quota exceeded for metric: generativelanguage.googleapis.com/generate_content_free_tier_requests, limit: 2\n",
            "Please retry in 49.502448319s.\n",
            "📝 Creating slide 3: Artificial Intelligence in Healthcare - Key Point 2 | Type: content | Design: Layout variation 1\n",
            "📝 Creating slide 4: Artificial Intelligence in Healthcare - Key Point 3 | Type: content | Design: Layout variation 2\n",
            "📝 Creating slide 5: Artificial Intelligence in Healthcare - Key Point 4 | Type: content | Design: Layout variation 1\n",
            "📝 Creating slide 6: Conclusion | Type: conclusion | Design: Bold ending slide with contrasting colors\n",
            "✅ Presentation saved as: ai_healthcare_presentation.pptx\n"
          ]
        }
      ]
    }
  ]
}